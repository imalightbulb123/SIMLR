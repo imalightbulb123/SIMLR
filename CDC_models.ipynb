{
 "cells": [
  {
   "cell_type": "code",
   "execution_count": 1,
   "id": "6720a836",
   "metadata": {},
   "outputs": [],
   "source": [
    "import numpy as np\n",
    "import pandas as pd\n",
    "import pickle\n",
    "import os\n",
    "import copy\n",
    "import time"
   ]
  },
  {
   "cell_type": "code",
   "execution_count": 2,
   "id": "c195abb8",
   "metadata": {},
   "outputs": [],
   "source": [
    "# Set the path to the folders of all the models in the CDC\n",
    "models_path = './covid19-forecast-hub/data-processed/'\n",
    "\n",
    "# Get all the folders (models) available in the repository\n",
    "models = []\n",
    "possible_models = os.listdir(models_path)\n",
    "for element in possible_models:\n",
    "    if os.path.isdir(models_path + element):\n",
    "        models.append(element)"
   ]
  },
  {
   "cell_type": "code",
   "execution_count": 3,
   "id": "334f9d35",
   "metadata": {},
   "outputs": [],
   "source": [
    "# Set the starting and ending dates\n",
    "start_dates = ['2020-07-05', '2020-07-12',\\\n",
    "               '2020-07-19', '2020-07-26', '2020-08-02', '2020-08-09',\\\n",
    "               '2020-08-16', '2020-08-23', '2020-08-30', '2020-09-06',\\\n",
    "               '2020-09-13', '2020-09-20', '2020-09-27', '2020-10-04',\\\n",
    "               '2020-10-11', '2020-10-18', '2020-10-25', '2020-11-01',\\\n",
    "               '2020-11-08', '2020-11-15', '2020-11-22', '2020-11-29',\\\n",
    "               '2020-12-06', '2020-12-13', '2020-12-20', '2020-12-27',\\\n",
    "               '2021-01-03', '2021-01-10', '2021-01-17', '2021-01-24',\\\n",
    "               '2021-01-31', '2021-02-07', '2021-02-14', '2021-02-21',\\\n",
    "               '2021-02-28', '2021-03-07', '2021-03-14', '2021-03-21',\\\n",
    "               '2021-03-28', '2021-04-04', '2021-04-11', '2021-04-18'\\\n",
    "              ]\n",
    "\n",
    "\n",
    "end_dates = ['2020-07-11', '2020-07-18',\\\n",
    "             '2020-07-25', '2020-08-01', '2020-08-08', '2020-08-15',\\\n",
    "             '2020-08-22', '2020-08-29', '2020-09-05', '2020-09-12',\\\n",
    "             '2020-09-19', '2020-09-26', '2020-10-03', '2020-10-10',\\\n",
    "             '2020-10-17', '2020-10-24', '2020-10-31', '2020-11-07',\\\n",
    "             '2020-11-14', '2020-11-21', '2020-11-28', '2020-12-05',\\\n",
    "             '2020-12-12', '2020-12-19', '2020-12-26', '2021-01-02',\\\n",
    "             '2021-01-09', '2021-01-16', '2021-01-23', '2021-01-30',\\\n",
    "             '2021-02-06', '2021-02-13', '2021-02-20', '2021-02-27',\\\n",
    "             '2021-03-06', '2021-03-13', '2021-03-20', '2021-03-27',\\\n",
    "             '2021-04-03', '2021-04-10', '2021-04-17', '2021-04-24'\\\n",
    "            ]\n",
    "\n",
    "dates_to_index = dict()\n",
    "\n",
    "for i, date in enumerate(end_dates):\n",
    "    dates_to_index[date] = i\n",
    "\n",
    "model_predictions = dict()\n",
    "\n",
    "for model in models:\n",
    "    model_predictions[model] = -1*np.ones(len(dates_to_index))"
   ]
  },
  {
   "cell_type": "code",
   "execution_count": 4,
   "id": "c2f9391e",
   "metadata": {},
   "outputs": [],
   "source": [
    "# For every model, get all the csv files that they have submitted\n",
    "max_weeks = 4\n",
    "model_predictions_dict = dict()\n",
    "\n",
    "for weeks_ahead in range(max_weeks):\n",
    "    key_name = str(weeks_ahead+1) + ' weeks ahead'\n",
    "    model_predictions_dict[key_name] = copy.deepcopy(model_predictions)"
   ]
  },
  {
   "cell_type": "code",
   "execution_count": 5,
   "id": "54f8c61c",
   "metadata": {},
   "outputs": [
    {
     "name": "stderr",
     "output_type": "stream",
     "text": [
      "/home/rvega/Envs/neurips/lib/python3.6/site-packages/IPython/core/interactiveshell.py:3072: DtypeWarning: Columns (3) have mixed types.Specify dtype option on import or set low_memory=False.\n",
      "  interactivity=interactivity, compiler=compiler, result=result)\n",
      "/home/rvega/Envs/neurips/lib/python3.6/site-packages/IPython/core/interactiveshell.py:3072: DtypeWarning: Columns (6) have mixed types.Specify dtype option on import or set low_memory=False.\n",
      "  interactivity=interactivity, compiler=compiler, result=result)\n"
     ]
    },
    {
     "name": "stdout",
     "output_type": "stream",
     "text": [
      "916.723494052887\n"
     ]
    }
   ],
   "source": [
    "subtype = 'case'\n",
    "start_time = time.time()\n",
    "# For every model, get all the csv files that they have submitted\n",
    "for model_folder in models:\n",
    "    csv_files = os.listdir(models_path+model_folder)\n",
    "    # Verify that this is not the metadata\n",
    "    for file in csv_files:\n",
    "        if (file[0:3] == '202') and (file[-3:] == 'csv'):\n",
    "            # Load the csv file\n",
    "            data_frame = pd.read_csv(models_path + model_folder + '/' + file)\n",
    "            \n",
    "            for weeks_ahead in range(1, max_weeks+1):\n",
    "                value = []\n",
    "                date = []\n",
    "        \n",
    "                key_name = str(weeks_ahead) + ' weeks ahead'\n",
    "            \n",
    "                # We just care about 'point' predictions in the US\n",
    "                us_flag = data_frame['location'] == 'US'\n",
    "                type_flag = data_frame['type'] == 'point'\n",
    "\n",
    "                target_flag = data_frame['target'] == str(weeks_ahead) + ' wk ahead inc ' + subtype\n",
    "\n",
    "                # Check if they report '4 wk ahead inc death'\n",
    "                if np.sum(target_flag) > 0:\n",
    "                    all_flags = us_flag & type_flag & target_flag\n",
    "\n",
    "                    us_dataframe = data_frame.loc[all_flags]\n",
    "                    date = us_dataframe['target_end_date'].values\n",
    "                    value = us_dataframe['value'].values\n",
    "\n",
    "                # If not, then check for '4 wk ahead cum death' and '3 wk ahead inc death'\n",
    "                else:\n",
    "                    if weeks_ahead > 1:\n",
    "                        target_flag_w_4 = data_frame['target'] == str(weeks_ahead) + ' wk ahead cum ' + subtype\n",
    "                        target_flag_w_3 = data_frame['target'] == str(weeks_ahead-1) + ' wk ahead cum ' + subtype\n",
    "\n",
    "                        all_flags_4 = us_flag & type_flag & target_flag_w_4\n",
    "                        all_flags_3 = us_flag & type_flag & target_flag_w_3\n",
    "\n",
    "                        us_dataframe_4 = data_frame.loc[all_flags_4]\n",
    "                        us_dataframe_3 = data_frame.loc[all_flags_3]\n",
    "\n",
    "                        date = us_dataframe_4['target_end_date'].values\n",
    "                        value = us_dataframe_4['value'].values - us_dataframe_3['value'].values\n",
    "\n",
    "\n",
    "                if len(date) > 0:\n",
    "                    date = date[0]\n",
    "                else:\n",
    "                    date = ''\n",
    "\n",
    "                if len(value) > 0:\n",
    "                    value = value[0]\n",
    "                else:\n",
    "                    value = -1\n",
    "\n",
    "                # Check which entry of the predictions to modify\n",
    "                if date in dates_to_index:\n",
    "                    index = dates_to_index[date]\n",
    "                    model_predictions_dict[key_name][model_folder][index] = value       \n",
    "print(time.time()-start_time)"
   ]
  },
  {
   "cell_type": "code",
   "execution_count": 8,
   "id": "82d9e5bc",
   "metadata": {},
   "outputs": [
    {
     "name": "stderr",
     "output_type": "stream",
     "text": [
      "/home/rvega/Envs/neurips/lib/python3.6/site-packages/IPython/core/interactiveshell.py:3072: DtypeWarning: Columns (1) have mixed types.Specify dtype option on import or set low_memory=False.\n",
      "  interactivity=interactivity, compiler=compiler, result=result)\n"
     ]
    }
   ],
   "source": [
    "# Load the real data\n",
    "ground_truth_path = './covid19-forecast-hub/data-truth/truth-Incident Cases.csv'\n",
    "ground_truth_dataframe = pd.read_csv(ground_truth_path)\n",
    "# Get the us data only\n",
    "us_flag = ground_truth_dataframe['location_name'] == 'US'\n",
    "gt_us_dataframe = ground_truth_dataframe[us_flag]\n",
    "gt_us_dataframe = gt_us_dataframe.reset_index()"
   ]
  },
  {
   "cell_type": "code",
   "execution_count": 9,
   "id": "818aed01",
   "metadata": {},
   "outputs": [],
   "source": [
    "# Get the ground truth data\n",
    "ground_truth = -1*np.ones(len(dates_to_index))\n",
    "gt_values = gt_us_dataframe['value'].values\n",
    "\n",
    "for i, end_date in enumerate(end_dates):\n",
    "    day_flag = gt_us_dataframe['date'] == end_date\n",
    "\n",
    "    # Get the row numbers of the data of interest\n",
    "    end_index = 1 + gt_us_dataframe[day_flag].index.values[0]\n",
    "    start_index = end_index - 7\n",
    "    ground_truth[i] = np.sum(gt_values[start_index:end_index])"
   ]
  },
  {
   "cell_type": "code",
   "execution_count": 10,
   "id": "e53fb18e",
   "metadata": {},
   "outputs": [],
   "source": [
    "# Save the ground truth in a csv file\n",
    "\n",
    "with open('Ground_truth_Cases.csv', 'w') as file:\n",
    "    file.write('Start_date, End_date, Prediction\\n')\n",
    "    for start_d, end_d, gt in zip(start_dates, end_dates, ground_truth):\n",
    "        file.write(start_d + ',' + end_d +','+ str(gt)+'\\n')"
   ]
  },
  {
   "cell_type": "code",
   "execution_count": 11,
   "id": "b7ce8d04",
   "metadata": {},
   "outputs": [],
   "source": [
    "# Save the CDC prdictions into a pickle file\n",
    "pickle.dump(model_predictions_dict, open('CDC_predictions_Cases_Neurips.pkl', 'wb'))"
   ]
  },
  {
   "cell_type": "code",
   "execution_count": null,
   "id": "5ff3ec6e",
   "metadata": {},
   "outputs": [],
   "source": []
  }
 ],
 "metadata": {
  "kernelspec": {
   "display_name": "neurips",
   "language": "python",
   "name": "neurips"
  },
  "language_info": {
   "codemirror_mode": {
    "name": "ipython",
    "version": 3
   },
   "file_extension": ".py",
   "mimetype": "text/x-python",
   "name": "python",
   "nbconvert_exporter": "python",
   "pygments_lexer": "ipython3",
   "version": "3.6.9"
  }
 },
 "nbformat": 4,
 "nbformat_minor": 5
}
